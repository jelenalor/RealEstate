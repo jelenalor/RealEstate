{
 "cells": [
  {
   "cell_type": "code",
   "execution_count": 1,
   "metadata": {},
   "outputs": [],
   "source": [
    "import numpy as np \n",
    "import pandas as pd\n",
    "import os\n",
    "import psycopg2\n",
    "import geopandas as gpd\n",
    "\n",
    "import importlib\n",
    "from Secrets import secrets\n",
    "# importlib.reload(secrets)\n",
    "\n",
    "import matplotlib.pyplot as plt\n",
    "import seaborn as sns"
   ]
  },
  {
   "cell_type": "markdown",
   "metadata": {},
   "source": [
    "### Analysis\n",
    " \n",
    " - Crime rate over time by category\n",
    " - - Areas with most crime rate by type\n",
    " - - Crime rate by areas and over time\n",
    " \n",
    " - Best areas for grocery stores\n",
    " - Best areas for going out \n",
    " - Best areas for school catchment\n",
    " \n",
    " - Relationship between avg price, gdp, hpi\n",
    " - Areas that under and over perform hpi index\n",
    " \n",
    " - estimate premium paid per sqft for good schools, stores vibrant areas\n",
    " - estimate drivers for price"
   ]
  },
  {
   "cell_type": "code",
   "execution_count": null,
   "metadata": {},
   "outputs": [],
   "source": []
  },
  {
   "cell_type": "code",
   "execution_count": null,
   "metadata": {},
   "outputs": [],
   "source": []
  },
  {
   "cell_type": "code",
   "execution_count": null,
   "metadata": {},
   "outputs": [],
   "source": []
  },
  {
   "cell_type": "code",
   "execution_count": null,
   "metadata": {},
   "outputs": [],
   "source": []
  },
  {
   "cell_type": "code",
   "execution_count": null,
   "metadata": {},
   "outputs": [],
   "source": []
  },
  {
   "cell_type": "code",
   "execution_count": null,
   "metadata": {},
   "outputs": [],
   "source": []
  },
  {
   "cell_type": "code",
   "execution_count": null,
   "metadata": {},
   "outputs": [],
   "source": []
  },
  {
   "cell_type": "code",
   "execution_count": null,
   "metadata": {},
   "outputs": [],
   "source": [
    "# # Get Data from AWS RDS PostgresSQL DB (all data within the database is publicly available and been scrapped and collected by myself)\n",
    "\n",
    "# engine = psycopg2.connect(database=\"postgres\", user=secrets.user(), password=secrets.password(), host=secrets.host(), port='5432')\n",
    "# cur = engine.cursor()\n",
    "\n",
    "# cur.execute(\"\"\"\n",
    "\n",
    "# SELECT \n",
    "#     CAST (p.year AS INTEGER), p.new, p.duration, p.type, g.rg_name, g.geometry,\n",
    "#     CAST(ROUND(AVG(p.price)::numeric,0 ) as integer) as avg_price,\n",
    "#     CAST(ROUND(AVG(e.total_floor_area)::numeric,0 ) as integer) as avg_sqft,\n",
    "#     CAST(ROUND(AVG(e.number_habitable_rooms)::numeric,0 ) as integer) as avg_rooms,\n",
    "#     CAST(ROUND( AVG(p.price/e.total_floor_area)::numeric, 3 ) as integer) as sqft_price,\n",
    "#     CAST(ROUND( AVG(p.price/e.number_habitable_rooms)::numeric, 3 ) as integer) as price_per_room\n",
    "\n",
    "# from prices as p\n",
    "# join epc as e\n",
    "# on e.brn = p.brn\n",
    "# join geo as g\n",
    "# on p.lsoa = g.lsoa\n",
    "# where e.total_floor_area <> 0 and e.number_habitable_rooms <> 0 and e.number_habitable_rooms is not null and e.total_floor_area is not null\n",
    "\n",
    "# group by p.year, p.new, p.duration, p.type, g.rg_name, g.geometry;\n",
    "\n",
    "# \"\"\")\n",
    "# rows = cur.fetchall()\n",
    "# result = pd.DataFrame(rows, columns = [desc[0] for desc in cur.description])\n",
    "# result.head(2)"
   ]
  },
  {
   "cell_type": "code",
   "execution_count": null,
   "metadata": {},
   "outputs": [],
   "source": [
    "engine = psycopg2.connect(database=\"postgres\", user=secrets.user(), password=secrets.password(), host=secrets.host(), port='5432')\n",
    "\n",
    "sql = \"\"\"\n",
    "\n",
    "select g.lsoa, g.lsoa_name, g.geometry, avg(p.price)\n",
    "from geo as g\n",
    "left join prices2 as p\n",
    "on p.lsoa = g.lsoa\n",
    "group by g.lsoa, g.geometry, g.lsoa_name;\n",
    "\n",
    "\"\"\"\n",
    "\n",
    "gdf = gpd.read_postgis(sql, engine, geom_col='geometry') \n",
    "gdf"
   ]
  },
  {
   "cell_type": "code",
   "execution_count": null,
   "metadata": {},
   "outputs": [],
   "source": [
    "fig, ax = plt.subplots(figsize=(30, 30))\n",
    "ax.axis('off')\n",
    "gdf.plot(ax = ax, column=\"avg\", \\\n",
    "         legend=True, \\\n",
    "         missing_kwds={\n",
    "            \"color\": \"lightgrey\",\n",
    "            \"edgecolor\": \"red\",\n",
    "            \"hatch\": \"///\",\n",
    "            \"label\": \"Missing values\",},\n",
    "        )\n",
    "\n",
    "plt.show()"
   ]
  }
 ],
 "metadata": {
  "kernelspec": {
   "display_name": "Python 3",
   "language": "python",
   "name": "python3"
  },
  "language_info": {
   "codemirror_mode": {
    "name": "ipython",
    "version": 3
   },
   "file_extension": ".py",
   "mimetype": "text/x-python",
   "name": "python",
   "nbconvert_exporter": "python",
   "pygments_lexer": "ipython3",
   "version": "3.8.3"
  }
 },
 "nbformat": 4,
 "nbformat_minor": 4
}
