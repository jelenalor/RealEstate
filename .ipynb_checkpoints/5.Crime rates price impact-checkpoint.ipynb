{
 "cells": [
  {
   "cell_type": "code",
   "execution_count": 1,
   "metadata": {},
   "outputs": [],
   "source": [
    "import numpy as np \n",
    "import pandas as pd\n",
    "import os\n",
    "import psycopg2\n",
    "import geopandas as gpd\n",
    "\n",
    "import importlib\n",
    "from Secrets import secrets\n",
    "# importlib.reload(secrets)\n",
    "\n",
    "import matplotlib.pyplot as plt\n",
    "import seaborn as sns\n",
    "\n",
    "from sklearn.mixture import GaussianMixture"
   ]
  },
  {
   "cell_type": "code",
   "execution_count": 38,
   "metadata": {},
   "outputs": [
    {
     "name": "stdout",
     "output_type": "stream",
     "text": [
      "(12905, 11)\n"
     ]
    },
    {
     "data": {
      "text/html": [
       "<div>\n",
       "<style scoped>\n",
       "    .dataframe tbody tr th:only-of-type {\n",
       "        vertical-align: middle;\n",
       "    }\n",
       "\n",
       "    .dataframe tbody tr th {\n",
       "        vertical-align: top;\n",
       "    }\n",
       "\n",
       "    .dataframe thead th {\n",
       "        text-align: right;\n",
       "    }\n",
       "</style>\n",
       "<table border=\"1\" class=\"dataframe\">\n",
       "  <thead>\n",
       "    <tr style=\"text-align: right;\">\n",
       "      <th></th>\n",
       "      <th>year</th>\n",
       "      <th>brn</th>\n",
       "      <th>lsoa</th>\n",
       "      <th>ward_name</th>\n",
       "      <th>total_floor_area</th>\n",
       "      <th>sum_cases</th>\n",
       "      <th>avg_no_of_res</th>\n",
       "      <th>num_of_stations</th>\n",
       "      <th>diff</th>\n",
       "      <th>avg_price</th>\n",
       "      <th>sqm_price</th>\n",
       "    </tr>\n",
       "  </thead>\n",
       "  <tbody>\n",
       "    <tr>\n",
       "      <th>0</th>\n",
       "      <td>2008.0</td>\n",
       "      <td>3.474105e+08</td>\n",
       "      <td>E01000011</td>\n",
       "      <td>Abbey</td>\n",
       "      <td>70.0</td>\n",
       "      <td>98.0</td>\n",
       "      <td>1634.0</td>\n",
       "      <td>1.0</td>\n",
       "      <td>0.1</td>\n",
       "      <td>122000</td>\n",
       "      <td>1743</td>\n",
       "    </tr>\n",
       "    <tr>\n",
       "      <th>1</th>\n",
       "      <td>2008.0</td>\n",
       "      <td>1.805054e+09</td>\n",
       "      <td>E01000137</td>\n",
       "      <td>Childs Hill</td>\n",
       "      <td>65.0</td>\n",
       "      <td>98.0</td>\n",
       "      <td>1729.0</td>\n",
       "      <td>NaN</td>\n",
       "      <td>0.1</td>\n",
       "      <td>290000</td>\n",
       "      <td>4462</td>\n",
       "    </tr>\n",
       "    <tr>\n",
       "      <th>2</th>\n",
       "      <td>2008.0</td>\n",
       "      <td>4.107456e+09</td>\n",
       "      <td>E01000141</td>\n",
       "      <td>Childs Hill</td>\n",
       "      <td>67.0</td>\n",
       "      <td>440.0</td>\n",
       "      <td>2104.0</td>\n",
       "      <td>NaN</td>\n",
       "      <td>0.1</td>\n",
       "      <td>212500</td>\n",
       "      <td>3172</td>\n",
       "    </tr>\n",
       "    <tr>\n",
       "      <th>3</th>\n",
       "      <td>2008.0</td>\n",
       "      <td>3.760966e+09</td>\n",
       "      <td>E01000141</td>\n",
       "      <td>Childs Hill</td>\n",
       "      <td>67.1</td>\n",
       "      <td>440.0</td>\n",
       "      <td>2104.0</td>\n",
       "      <td>NaN</td>\n",
       "      <td>0.0</td>\n",
       "      <td>235000</td>\n",
       "      <td>3502</td>\n",
       "    </tr>\n",
       "    <tr>\n",
       "      <th>4</th>\n",
       "      <td>2008.0</td>\n",
       "      <td>4.107456e+09</td>\n",
       "      <td>E01000141</td>\n",
       "      <td>Childs Hill</td>\n",
       "      <td>67.0</td>\n",
       "      <td>440.0</td>\n",
       "      <td>2104.0</td>\n",
       "      <td>NaN</td>\n",
       "      <td>0.1</td>\n",
       "      <td>175000</td>\n",
       "      <td>2612</td>\n",
       "    </tr>\n",
       "  </tbody>\n",
       "</table>\n",
       "</div>"
      ],
      "text/plain": [
       "     year           brn       lsoa    ward_name  total_floor_area  sum_cases  \\\n",
       "0  2008.0  3.474105e+08  E01000011        Abbey              70.0       98.0   \n",
       "1  2008.0  1.805054e+09  E01000137  Childs Hill              65.0       98.0   \n",
       "2  2008.0  4.107456e+09  E01000141  Childs Hill              67.0      440.0   \n",
       "3  2008.0  3.760966e+09  E01000141  Childs Hill              67.1      440.0   \n",
       "4  2008.0  4.107456e+09  E01000141  Childs Hill              67.0      440.0   \n",
       "\n",
       "   avg_no_of_res  num_of_stations diff  avg_price  sqm_price  \n",
       "0         1634.0              1.0  0.1     122000       1743  \n",
       "1         1729.0              NaN  0.1     290000       4462  \n",
       "2         2104.0              NaN  0.1     212500       3172  \n",
       "3         2104.0              NaN  0.0     235000       3502  \n",
       "4         2104.0              NaN  0.1     175000       2612  "
      ]
     },
     "execution_count": 38,
     "metadata": {},
     "output_type": "execute_result"
    }
   ],
   "source": [
    "engine = psycopg2.connect(database=\"postgres\", user=secrets.user(), password=secrets.password(), host=secrets.host(), port='5432')\n",
    "cur = engine.cursor()\n",
    "cur.execute(\"\"\"\n",
    "SELECT \n",
    "    p.year, p.brn, p.lsoa, c.ward_name, e.total_floor_area, sum_cases, avg_no_of_res, num_of_stations,\n",
    "    ROUND( ((CAST(potential_energy_efficiency as float) - CAST(current_energy_efficiency as float) )/CAST(potential_energy_efficiency as float))::numeric, 1) as diff,\n",
    "    CAST(ROUND((p.price)::numeric,0 ) as integer) as avg_price,\n",
    "    CAST(ROUND((p.price/e.total_floor_area)::numeric, 3 ) as integer) as sqm_price\n",
    "    \n",
    "from prices as p\n",
    "join epc as e\n",
    "on e.brn = p.brn\n",
    "\n",
    "join ( select c.year, c.lsoa, g.ward_name, sum(c.value) as sum_cases, avg(g.no_of_res) as avg_no_of_res\n",
    "from crime_by_year as c\n",
    "join geo2 as g\n",
    "on g.lsoa = c.lsoa\n",
    "where g.no_of_res != 0\n",
    "group by 1, 2, 3) as c\n",
    "on p.lsoa = c.lsoa and p.year = c.year\n",
    "\n",
    "left join (select lsoa, count(station) as num_of_stations\n",
    "from stations group by 1) as s\n",
    "on s.lsoa = p.lsoa\n",
    "\n",
    "where e.total_floor_area <> 0 and e.number_habitable_rooms is not null and e.total_floor_area is not null\n",
    "and (e.total_floor_area > 60 and e.total_floor_area < 75)\n",
    "and e.number_habitable_rooms = 3\n",
    "and p.type = 'F'\n",
    "and p.duration = 'L'\n",
    "and p.new = 'N'\n",
    "and e.construction_age_band = '1900-1929'\n",
    "and e.potential_energy_rating = 'C'\n",
    ";\n",
    "\n",
    "\"\"\")\n",
    "rows = cur.fetchall()\n",
    "result = pd.DataFrame(rows, columns = [desc[0] for desc in cur.description])\n",
    "print(result.shape)\n",
    "result.head()"
   ]
  },
  {
   "cell_type": "code",
   "execution_count": 22,
   "metadata": {},
   "outputs": [
    {
     "name": "stdout",
     "output_type": "stream",
     "text": [
      "Mean  6066.16404494382\n"
     ]
    },
    {
     "name": "stderr",
     "output_type": "stream",
     "text": [
      "/home/elena/anaconda3/lib/python3.8/site-packages/seaborn/distributions.py:2557: FutureWarning: `distplot` is a deprecated function and will be removed in a future version. Please adapt your code to use either `displot` (a figure-level function with similar flexibility) or `histplot` (an axes-level function for histograms).\n",
      "  warnings.warn(msg, FutureWarning)\n"
     ]
    },
    {
     "data": {
      "image/png": "[encoded data removed]",
      "text/plain": [
       "<Figure size 1440x288 with 1 Axes>"
      ]
     },
     "metadata": {
      "needs_background": "light"
     },
     "output_type": "display_data"
    }
   ],
   "source": [
    "values_sqft_price = result.sqm_price.values\n",
    "print(\"Mean \", values_sqft_price.mean())\n",
    "fig, ax = plt.subplots(figsize=(20, 4))\n",
    "sns.distplot(values_sqft_price, ax=ax)\n",
    "ax.set_title(\"Price per sq meters distribution \\n\", fontweight='bold', fontsize=14)\n",
    "plt.show()\n",
    "\n",
    "# Price per sq m follows a normal fistribution with 6k GBP mean"
   ]
  },
  {
   "cell_type": "code",
   "execution_count": 23,
   "metadata": {},
   "outputs": [
    {
     "data": {
      "text/html": [
       "<div>\n",
       "<style scoped>\n",
       "    .dataframe tbody tr th:only-of-type {\n",
       "        vertical-align: middle;\n",
       "    }\n",
       "\n",
       "    .dataframe tbody tr th {\n",
       "        vertical-align: top;\n",
       "    }\n",
       "\n",
       "    .dataframe thead tr th {\n",
       "        text-align: left;\n",
       "    }\n",
       "</style>\n",
       "<table border=\"1\" class=\"dataframe\">\n",
       "  <thead>\n",
       "    <tr>\n",
       "      <th></th>\n",
       "      <th>ward_name</th>\n",
       "      <th colspan=\"4\" halign=\"left\">sqm_price</th>\n",
       "      <th>lsoa</th>\n",
       "    </tr>\n",
       "    <tr>\n",
       "      <th></th>\n",
       "      <th></th>\n",
       "      <th>min</th>\n",
       "      <th>mean</th>\n",
       "      <th>max</th>\n",
       "      <th>std</th>\n",
       "      <th>nunique</th>\n",
       "    </tr>\n",
       "  </thead>\n",
       "  <tbody>\n",
       "    <tr>\n",
       "      <th>85</th>\n",
       "      <td>Croydon</td>\n",
       "      <td>1250</td>\n",
       "      <td>3554.797500</td>\n",
       "      <td>8852</td>\n",
       "      <td>1116.336414</td>\n",
       "      <td>91</td>\n",
       "    </tr>\n",
       "    <tr>\n",
       "      <th>311</th>\n",
       "      <td>Southwark</td>\n",
       "      <td>1555</td>\n",
       "      <td>5683.703549</td>\n",
       "      <td>11129</td>\n",
       "      <td>2037.174359</td>\n",
       "      <td>90</td>\n",
       "    </tr>\n",
       "    <tr>\n",
       "      <th>149</th>\n",
       "      <td>Hackney</td>\n",
       "      <td>1670</td>\n",
       "      <td>6642.287582</td>\n",
       "      <td>16556</td>\n",
       "      <td>2573.457941</td>\n",
       "      <td>81</td>\n",
       "    </tr>\n",
       "    <tr>\n",
       "      <th>204</th>\n",
       "      <td>Kensington and Chelsea</td>\n",
       "      <td>3458</td>\n",
       "      <td>12782.862454</td>\n",
       "      <td>52375</td>\n",
       "      <td>5801.053374</td>\n",
       "      <td>69</td>\n",
       "    </tr>\n",
       "    <tr>\n",
       "      <th>289</th>\n",
       "      <td>Redbridge</td>\n",
       "      <td>1718</td>\n",
       "      <td>3723.081081</td>\n",
       "      <td>8240</td>\n",
       "      <td>1193.089486</td>\n",
       "      <td>50</td>\n",
       "    </tr>\n",
       "  </tbody>\n",
       "</table>\n",
       "</div>"
      ],
      "text/plain": [
       "                  ward_name sqm_price                                    \\\n",
       "                                  min          mean    max          std   \n",
       "85                  Croydon      1250   3554.797500   8852  1116.336414   \n",
       "311               Southwark      1555   5683.703549  11129  2037.174359   \n",
       "149                 Hackney      1670   6642.287582  16556  2573.457941   \n",
       "204  Kensington and Chelsea      3458  12782.862454  52375  5801.053374   \n",
       "289               Redbridge      1718   3723.081081   8240  1193.089486   \n",
       "\n",
       "       lsoa  \n",
       "    nunique  \n",
       "85       91  \n",
       "311      90  \n",
       "149      81  \n",
       "204      69  \n",
       "289      50  "
      ]
     },
     "execution_count": 23,
     "metadata": {},
     "output_type": "execute_result"
    }
   ],
   "source": [
    "# Ideally want to isolate the specific wards (to ensure that the properties that we compare are from the same distribution)\n",
    "# Identify the wards with most properties\n",
    "# Which is Croydon, and Southwark, Hackney\n",
    "# We know that Croydon, Southwark are too areas that were identified having high crime rates\n",
    "# Interesting to invetigate these more\n",
    "result.groupby(\"ward_name\", as_index=False).agg({\"sqm_price\":[\"min\", \"mean\", \"max\", \"std\"], \"lsoa\": \"nunique\"}).sort_values(by=(\"lsoa\", \"nunique\"), ascending=False).head()"
   ]
  },
  {
   "cell_type": "markdown",
   "metadata": {},
   "source": [
    "### Croydon"
   ]
  },
  {
   "cell_type": "code",
   "execution_count": 8,
   "metadata": {},
   "outputs": [
    {
     "name": "stderr",
     "output_type": "stream",
     "text": [
      "/home/elena/anaconda3/lib/python3.8/site-packages/seaborn/distributions.py:2557: FutureWarning: `distplot` is a deprecated function and will be removed in a future version. Please adapt your code to use either `displot` (a figure-level function with similar flexibility) or `histplot` (an axes-level function for histograms).\n",
      "  warnings.warn(msg, FutureWarning)\n"
     ]
    },
    {
     "data": {
      "image/png": "[encoded data removed]",
      "text/plain": [
       "<Figure size 1440x288 with 1 Axes>"
      ]
     },
     "metadata": {
      "needs_background": "light"
     },
     "output_type": "display_data"
    }
   ],
   "source": [
    "values_sqft_price = result[result.ward_name == \"Croydon\"].sqm_price.values\n",
    "fig, ax = plt.subplots(figsize=(20, 4))\n",
    "sns.distplot(values_sqft_price, ax=ax)\n",
    "ax.set_title(\"Price per sq meters distribution \\n\", fontweight='bold', fontsize=14)\n",
    "plt.show()\n",
    "\n",
    "# It is clear that there seem to be two peaks and may be two distributions\n",
    "# Try to separate two distributions using GM model (Gaussian Mixture)"
   ]
  },
  {
   "cell_type": "code",
   "execution_count": 99,
   "metadata": {},
   "outputs": [
    {
     "name": "stdout",
     "output_type": "stream",
     "text": [
      "GM model identifies two means: 4219.966309558787 and 2802.017220019164\n"
     ]
    },
    {
     "name": "stderr",
     "output_type": "stream",
     "text": [
      "<ipython-input-99-bf7cfdc1173d>:4: SettingWithCopyWarning: \n",
      "A value is trying to be set on a copy of a slice from a DataFrame.\n",
      "Try using .loc[row_indexer,col_indexer] = value instead\n",
      "\n",
      "See the caveats in the documentation: https://pandas.pydata.org/pandas-docs/stable/user_guide/indexing.html#returning-a-view-versus-a-copy\n",
      "  result_croydon[\"GM_result\"] = gm.predict(X)\n"
     ]
    }
   ],
   "source": [
    "result_croydon = result[result.ward_name == \"Croydon\"]\n",
    "X = result_croydon[[\"sqm_price\"]]\n",
    "gm = GaussianMixture(n_components=2, random_state=0).fit(X)\n",
    "result_croydon[\"GM_result\"] = gm.predict(X)\n",
    "print(f\"GM model identifies two means: {gm.means_[0][0]} and {gm.means_[1][0]}\")"
   ]
  },
  {
   "cell_type": "code",
   "execution_count": 26,
   "metadata": {},
   "outputs": [
    {
     "data": {
      "text/html": [
       "<div>\n",
       "<style scoped>\n",
       "    .dataframe tbody tr th:only-of-type {\n",
       "        vertical-align: middle;\n",
       "    }\n",
       "\n",
       "    .dataframe tbody tr th {\n",
       "        vertical-align: top;\n",
       "    }\n",
       "\n",
       "    .dataframe thead th {\n",
       "        text-align: right;\n",
       "    }\n",
       "</style>\n",
       "<table border=\"1\" class=\"dataframe\">\n",
       "  <thead>\n",
       "    <tr style=\"text-align: right;\">\n",
       "      <th></th>\n",
       "      <th>year</th>\n",
       "      <th>brn</th>\n",
       "      <th>lsoa</th>\n",
       "      <th>ward_name</th>\n",
       "      <th>total_floor_area</th>\n",
       "      <th>sum_cases</th>\n",
       "      <th>avg_no_of_res</th>\n",
       "      <th>diff</th>\n",
       "      <th>avg_price</th>\n",
       "      <th>sqm_price</th>\n",
       "      <th>GM_result</th>\n",
       "    </tr>\n",
       "  </thead>\n",
       "  <tbody>\n",
       "    <tr>\n",
       "      <th>108</th>\n",
       "      <td>2008.0</td>\n",
       "      <td>5.660236e+09</td>\n",
       "      <td>E01000976</td>\n",
       "      <td>Croydon</td>\n",
       "      <td>64.0</td>\n",
       "      <td>125.0</td>\n",
       "      <td>1867.0</td>\n",
       "      <td>0.3</td>\n",
       "      <td>215000</td>\n",
       "      <td>3359</td>\n",
       "      <td>1</td>\n",
       "    </tr>\n",
       "    <tr>\n",
       "      <th>109</th>\n",
       "      <td>2008.0</td>\n",
       "      <td>1.724910e+09</td>\n",
       "      <td>E01000978</td>\n",
       "      <td>Croydon</td>\n",
       "      <td>63.0</td>\n",
       "      <td>44.0</td>\n",
       "      <td>1775.0</td>\n",
       "      <td>0.2</td>\n",
       "      <td>155000</td>\n",
       "      <td>2460</td>\n",
       "      <td>1</td>\n",
       "    </tr>\n",
       "    <tr>\n",
       "      <th>110</th>\n",
       "      <td>2008.0</td>\n",
       "      <td>7.570274e+09</td>\n",
       "      <td>E01000998</td>\n",
       "      <td>Croydon</td>\n",
       "      <td>64.0</td>\n",
       "      <td>147.0</td>\n",
       "      <td>1551.0</td>\n",
       "      <td>0.1</td>\n",
       "      <td>173000</td>\n",
       "      <td>2703</td>\n",
       "      <td>1</td>\n",
       "    </tr>\n",
       "    <tr>\n",
       "      <th>111</th>\n",
       "      <td>2008.0</td>\n",
       "      <td>2.983729e+09</td>\n",
       "      <td>E01001000</td>\n",
       "      <td>Croydon</td>\n",
       "      <td>63.0</td>\n",
       "      <td>155.0</td>\n",
       "      <td>1267.0</td>\n",
       "      <td>0.1</td>\n",
       "      <td>81000</td>\n",
       "      <td>1286</td>\n",
       "      <td>1</td>\n",
       "    </tr>\n",
       "    <tr>\n",
       "      <th>112</th>\n",
       "      <td>2008.0</td>\n",
       "      <td>2.440291e+08</td>\n",
       "      <td>E01001011</td>\n",
       "      <td>Croydon</td>\n",
       "      <td>62.0</td>\n",
       "      <td>250.0</td>\n",
       "      <td>1868.0</td>\n",
       "      <td>0.1</td>\n",
       "      <td>162000</td>\n",
       "      <td>2613</td>\n",
       "      <td>1</td>\n",
       "    </tr>\n",
       "  </tbody>\n",
       "</table>\n",
       "</div>"
      ],
      "text/plain": [
       "       year           brn       lsoa ward_name  total_floor_area  sum_cases  \\\n",
       "108  2008.0  5.660236e+09  E01000976   Croydon              64.0      125.0   \n",
       "109  2008.0  1.724910e+09  E01000978   Croydon              63.0       44.0   \n",
       "110  2008.0  7.570274e+09  E01000998   Croydon              64.0      147.0   \n",
       "111  2008.0  2.983729e+09  E01001000   Croydon              63.0      155.0   \n",
       "112  2008.0  2.440291e+08  E01001011   Croydon              62.0      250.0   \n",
       "\n",
       "     avg_no_of_res diff  avg_price  sqm_price  GM_result  \n",
       "108         1867.0  0.3     215000       3359          1  \n",
       "109         1775.0  0.2     155000       2460          1  \n",
       "110         1551.0  0.1     173000       2703          1  \n",
       "111         1267.0  0.1      81000       1286          1  \n",
       "112         1868.0  0.1     162000       2613          1  "
      ]
     },
     "execution_count": 26,
     "metadata": {},
     "output_type": "execute_result"
    }
   ],
   "source": [
    "result_croydon.head()"
   ]
  },
  {
   "cell_type": "code",
   "execution_count": 37,
   "metadata": {},
   "outputs": [
    {
     "name": "stderr",
     "output_type": "stream",
     "text": [
      "/home/elena/anaconda3/lib/python3.8/site-packages/seaborn/distributions.py:2557: FutureWarning: `distplot` is a deprecated function and will be removed in a future version. Please adapt your code to use either `displot` (a figure-level function with similar flexibility) or `histplot` (an axes-level function for histograms).\n",
      "  warnings.warn(msg, FutureWarning)\n",
      "/home/elena/anaconda3/lib/python3.8/site-packages/seaborn/distributions.py:2557: FutureWarning: `distplot` is a deprecated function and will be removed in a future version. Please adapt your code to use either `displot` (a figure-level function with similar flexibility) or `histplot` (an axes-level function for histograms).\n",
      "  warnings.warn(msg, FutureWarning)\n"
     ]
    },
    {
     "data": {
      "image/png": "[encoded data removed]",
      "text/plain": [
       "<Figure size 1440x288 with 2 Axes>"
      ]
     },
     "metadata": {
      "needs_background": "light"
     },
     "output_type": "display_data"
    }
   ],
   "source": [
    "fig, ax = plt.subplots(nrows=1, ncols=2, figsize=(20, 4))\n",
    "sns.distplot(result_croydon[result_croydon.GM_result == 1].sum_cases.values, ax=ax[0])\n",
    "sns.distplot(result_croydon[result_croydon.GM_result == 0].sum_cases.values, ax=ax[1])\n",
    "ax[0].set_title(\"Distribution of crime rates for area with 2.8k mean price per sqm \\n\", fontsize=14)\n",
    "ax[1].set_title(\"Distribution of crime rates for area with 4.2k mean price per sqm \\n\", fontsize=14)\n",
    "plt.show()\n",
    "\n",
    "# Insufficient evidence to suggest that crime rates have impact on price in Croydon"
   ]
  },
  {
   "cell_type": "code",
   "execution_count": 39,
   "metadata": {},
   "outputs": [
    {
     "data": {
      "text/html": [
       "<div>\n",
       "<style scoped>\n",
       "    .dataframe tbody tr th:only-of-type {\n",
       "        vertical-align: middle;\n",
       "    }\n",
       "\n",
       "    .dataframe tbody tr th {\n",
       "        vertical-align: top;\n",
       "    }\n",
       "\n",
       "    .dataframe thead th {\n",
       "        text-align: right;\n",
       "    }\n",
       "</style>\n",
       "<table border=\"1\" class=\"dataframe\">\n",
       "  <thead>\n",
       "    <tr style=\"text-align: right;\">\n",
       "      <th></th>\n",
       "      <th>GM_result</th>\n",
       "      <th>year</th>\n",
       "    </tr>\n",
       "  </thead>\n",
       "  <tbody>\n",
       "    <tr>\n",
       "      <th>0</th>\n",
       "      <td>0</td>\n",
       "      <td>2016.365</td>\n",
       "    </tr>\n",
       "    <tr>\n",
       "      <th>1</th>\n",
       "      <td>1</td>\n",
       "      <td>2012.755</td>\n",
       "    </tr>\n",
       "  </tbody>\n",
       "</table>\n",
       "</div>"
      ],
      "text/plain": [
       "   GM_result      year\n",
       "0          0  2016.365\n",
       "1          1  2012.755"
      ]
     },
     "execution_count": 39,
     "metadata": {},
     "output_type": "execute_result"
    }
   ],
   "source": [
    "result_croydon.groupby(\"GM_result\", as_index=False).agg({\"year\": \"mean\"})\n",
    "\n",
    "# In fact most of the price difference can be attributed to the year of sale"
   ]
  },
  {
   "cell_type": "code",
   "execution_count": 100,
   "metadata": {},
   "outputs": [
    {
     "name": "stdout",
     "output_type": "stream",
     "text": [
      "CAGR  0.044045879263926\n"
     ]
    },
    {
     "data": {
      "text/plain": [
       "<matplotlib.axes._subplots.AxesSubplot at 0x7f5f33116ee0>"
      ]
     },
     "execution_count": 100,
     "metadata": {},
     "output_type": "execute_result"
    },
    {
     "data": {
      "image/png": "[encoded data removed]",
      "text/plain": [
       "<Figure size 432x288 with 1 Axes>"
      ]
     },
     "metadata": {
      "needs_background": "light"
     },
     "output_type": "display_data"
    }
   ],
   "source": [
    "# Adjust for annual rise in house prices\n",
    "croydon_price_per_year = result_croydon.groupby(\"year\", as_index=False)[\"sqm_price\"].mean()\n",
    "print(\"CAGR \", np.power((croydon_price_per_year[\"sqm_price\"].values[-1]/croydon_price_per_year[\"sqm_price\"].values[0]), 1/croydon_price_per_year.shape[0])-1)\n",
    "croydon_price_per_year[\"sqm_price\"].plot()\n"
   ]
  },
  {
   "cell_type": "code",
   "execution_count": 79,
   "metadata": {},
   "outputs": [],
   "source": [
    "# A = P (1 + [ r / n ]) ^ nt\n",
    "# P = A/(1 + [ r / n ]) ^ nt\n",
    "\n",
    "def calc_cmpound(row):\n",
    "    cagr = 0.044\n",
    "    yr_diff = row[\"year\"]-2008\n",
    "    if yr_diff > 0:\n",
    "        compound = np.power((1 + cagr),yr_diff)  \n",
    "        compound_elem = row[\"sqm_price\"]/compound\n",
    "    else:\n",
    "        compound = 1\n",
    "        compound_elem = row[\"sqm_price\"]\n",
    "    return compound_elem\n",
    "    \n",
    "result_croydon[\"sqm_price_2008_equiv\"] = result_croydon[[\"year\", \"sqm_price\"]].apply(calc_cmpound, axis=1)"
   ]
  },
  {
   "cell_type": "code",
   "execution_count": 82,
   "metadata": {},
   "outputs": [
    {
     "name": "stderr",
     "output_type": "stream",
     "text": [
      "/home/elena/anaconda3/lib/python3.8/site-packages/seaborn/distributions.py:2557: FutureWarning: `distplot` is a deprecated function and will be removed in a future version. Please adapt your code to use either `displot` (a figure-level function with similar flexibility) or `histplot` (an axes-level function for histograms).\n",
      "  warnings.warn(msg, FutureWarning)\n"
     ]
    },
    {
     "data": {
      "image/png": "[encoded data removed]",
      "text/plain": [
       "<Figure size 1440x288 with 1 Axes>"
      ]
     },
     "metadata": {
      "needs_background": "light"
     },
     "output_type": "display_data"
    }
   ],
   "source": [
    "values_sqft_price = result_croydon.sqm_price_2008_equiv.values\n",
    "fig, ax = plt.subplots(figsize=(20, 4))\n",
    "sns.distplot(values_sqft_price, ax=ax)\n",
    "ax.set_title(\"Price per sq meters distribution \\n\", fontweight='bold', fontsize=14)\n",
    "plt.show()"
   ]
  },
  {
   "cell_type": "code",
   "execution_count": 91,
   "metadata": {},
   "outputs": [
    {
     "data": {
      "text/html": [
       "<div>\n",
       "<style scoped>\n",
       "    .dataframe tbody tr th:only-of-type {\n",
       "        vertical-align: middle;\n",
       "    }\n",
       "\n",
       "    .dataframe tbody tr th {\n",
       "        vertical-align: top;\n",
       "    }\n",
       "\n",
       "    .dataframe thead th {\n",
       "        text-align: right;\n",
       "    }\n",
       "</style>\n",
       "<table border=\"1\" class=\"dataframe\">\n",
       "  <thead>\n",
       "    <tr style=\"text-align: right;\">\n",
       "      <th></th>\n",
       "      <th>sum_cases</th>\n",
       "      <th>sqm_price_2008_equiv</th>\n",
       "    </tr>\n",
       "  </thead>\n",
       "  <tbody>\n",
       "    <tr>\n",
       "      <th>sum_cases</th>\n",
       "      <td>1.000000</td>\n",
       "      <td>-0.043222</td>\n",
       "    </tr>\n",
       "    <tr>\n",
       "      <th>sqm_price_2008_equiv</th>\n",
       "      <td>-0.043222</td>\n",
       "      <td>1.000000</td>\n",
       "    </tr>\n",
       "  </tbody>\n",
       "</table>\n",
       "</div>"
      ],
      "text/plain": [
       "                      sum_cases  sqm_price_2008_equiv\n",
       "sum_cases              1.000000             -0.043222\n",
       "sqm_price_2008_equiv  -0.043222              1.000000"
      ]
     },
     "execution_count": 91,
     "metadata": {},
     "output_type": "execute_result"
    }
   ],
   "source": [
    "result_croydon[[\"sum_cases\", \"sqm_price_2008_equiv\"]].corr()\n",
    "# After adj prices for time inflation, there is a very weak negative correlation between the crime rates and price per sq m in Croydon"
   ]
  },
  {
   "cell_type": "code",
   "execution_count": null,
   "metadata": {},
   "outputs": [],
   "source": []
  },
  {
   "cell_type": "code",
   "execution_count": null,
   "metadata": {},
   "outputs": [],
   "source": []
  },
  {
   "cell_type": "code",
   "execution_count": null,
   "metadata": {},
   "outputs": [],
   "source": []
  },
  {
   "cell_type": "code",
   "execution_count": null,
   "metadata": {},
   "outputs": [],
   "source": []
  },
  {
   "cell_type": "markdown",
   "metadata": {},
   "source": [
    "### Southwark"
   ]
  },
  {
   "cell_type": "code",
   "execution_count": 108,
   "metadata": {},
   "outputs": [
    {
     "name": "stdout",
     "output_type": "stream",
     "text": [
      "CAGR  0.0447507741964992\n"
     ]
    },
    {
     "data": {
      "text/plain": [
       "<matplotlib.axes._subplots.AxesSubplot at 0x7f5f336f9580>"
      ]
     },
     "execution_count": 108,
     "metadata": {},
     "output_type": "execute_result"
    },
    {
     "data": {
      "image/png": "[encoded data removed]",
      "text/plain": [
       "<Figure size 432x288 with 1 Axes>"
      ]
     },
     "metadata": {
      "needs_background": "light"
     },
     "output_type": "display_data"
    }
   ],
   "source": [
    "result_Southwark = result[result.ward_name == \"Southwark\"]\n",
    "\n",
    "# Adjust for annual rise in house prices\n",
    "southwark_price_per_year = result_Southwark.groupby(\"year\", as_index=False)[\"sqm_price\"].mean()\n",
    "print(\"CAGR \", np.power((southwark_price_per_year[\"sqm_price\"].values[-1]/southwark_price_per_year[\"sqm_price\"].values[0]), 1/southwark_price_per_year.shape[0])-1)\n",
    "southwark_price_per_year[\"sqm_price\"].plot()"
   ]
  },
  {
   "cell_type": "code",
   "execution_count": 109,
   "metadata": {},
   "outputs": [
    {
     "name": "stderr",
     "output_type": "stream",
     "text": [
      "<ipython-input-109-bf3effa132b6>:1: SettingWithCopyWarning: \n",
      "A value is trying to be set on a copy of a slice from a DataFrame.\n",
      "Try using .loc[row_indexer,col_indexer] = value instead\n",
      "\n",
      "See the caveats in the documentation: https://pandas.pydata.org/pandas-docs/stable/user_guide/indexing.html#returning-a-view-versus-a-copy\n",
      "  result_Southwark[\"sqm_price_2008_equiv\"] = result_Southwark[[\"year\", \"sqm_price\"]].apply(calc_cmpound, axis=1)\n"
     ]
    }
   ],
   "source": [
    "result_Southwark[\"sqm_price_2008_equiv\"] = result_Southwark[[\"year\", \"sqm_price\"]].apply(calc_cmpound, axis=1)"
   ]
  },
  {
   "cell_type": "code",
   "execution_count": null,
   "metadata": {},
   "outputs": [],
   "source": []
  },
  {
   "cell_type": "code",
   "execution_count": null,
   "metadata": {},
   "outputs": [],
   "source": []
  },
  {
   "cell_type": "code",
   "execution_count": 110,
   "metadata": {},
   "outputs": [
    {
     "name": "stderr",
     "output_type": "stream",
     "text": [
      "/home/elena/anaconda3/lib/python3.8/site-packages/seaborn/distributions.py:2557: FutureWarning: `distplot` is a deprecated function and will be removed in a future version. Please adapt your code to use either `displot` (a figure-level function with similar flexibility) or `histplot` (an axes-level function for histograms).\n",
      "  warnings.warn(msg, FutureWarning)\n"
     ]
    },
    {
     "data": {
      "image/png": "[encoded data removed]",
      "text/plain": [
       "<Figure size 1440x288 with 1 Axes>"
      ]
     },
     "metadata": {
      "needs_background": "light"
     },
     "output_type": "display_data"
    }
   ],
   "source": [
    "values_sqft_price = result_Southwark.sqm_price_2008_equiv.values\n",
    "fig, ax = plt.subplots(figsize=(20, 4))\n",
    "sns.distplot(values_sqft_price, ax=ax)\n",
    "ax.set_title(\"Price per sq meters distribution \\n\", fontweight='bold', fontsize=14)\n",
    "plt.show()"
   ]
  },
  {
   "cell_type": "code",
   "execution_count": 111,
   "metadata": {},
   "outputs": [
    {
     "data": {
      "text/html": [
       "<div>\n",
       "<style scoped>\n",
       "    .dataframe tbody tr th:only-of-type {\n",
       "        vertical-align: middle;\n",
       "    }\n",
       "\n",
       "    .dataframe tbody tr th {\n",
       "        vertical-align: top;\n",
       "    }\n",
       "\n",
       "    .dataframe thead th {\n",
       "        text-align: right;\n",
       "    }\n",
       "</style>\n",
       "<table border=\"1\" class=\"dataframe\">\n",
       "  <thead>\n",
       "    <tr style=\"text-align: right;\">\n",
       "      <th></th>\n",
       "      <th>sum_cases</th>\n",
       "      <th>sqm_price_2008_equiv</th>\n",
       "    </tr>\n",
       "  </thead>\n",
       "  <tbody>\n",
       "    <tr>\n",
       "      <th>sum_cases</th>\n",
       "      <td>1.000000</td>\n",
       "      <td>-0.040995</td>\n",
       "    </tr>\n",
       "    <tr>\n",
       "      <th>sqm_price_2008_equiv</th>\n",
       "      <td>-0.040995</td>\n",
       "      <td>1.000000</td>\n",
       "    </tr>\n",
       "  </tbody>\n",
       "</table>\n",
       "</div>"
      ],
      "text/plain": [
       "                      sum_cases  sqm_price_2008_equiv\n",
       "sum_cases              1.000000             -0.040995\n",
       "sqm_price_2008_equiv  -0.040995              1.000000"
      ]
     },
     "execution_count": 111,
     "metadata": {},
     "output_type": "execute_result"
    }
   ],
   "source": [
    "result_Southwark[[\"sum_cases\", \"sqm_price_2008_equiv\"]].corr()"
   ]
  },
  {
   "cell_type": "code",
   "execution_count": null,
   "metadata": {},
   "outputs": [],
   "source": []
  },
  {
   "cell_type": "code",
   "execution_count": null,
   "metadata": {},
   "outputs": [],
   "source": []
  },
  {
   "cell_type": "code",
   "execution_count": null,
   "metadata": {},
   "outputs": [],
   "source": []
  },
  {
   "cell_type": "code",
   "execution_count": null,
   "metadata": {},
   "outputs": [],
   "source": []
  },
  {
   "cell_type": "code",
   "execution_count": null,
   "metadata": {},
   "outputs": [],
   "source": []
  },
  {
   "cell_type": "code",
   "execution_count": null,
   "metadata": {},
   "outputs": [],
   "source": []
  },
  {
   "cell_type": "code",
   "execution_count": null,
   "metadata": {},
   "outputs": [],
   "source": []
  },
  {
   "cell_type": "code",
   "execution_count": null,
   "metadata": {},
   "outputs": [],
   "source": []
  }
 ],
 "metadata": {
  "kernelspec": {
   "display_name": "Python 3",
   "language": "python",
   "name": "python3"
  },
  "language_info": {
   "codemirror_mode": {
    "name": "ipython",
    "version": 3
   },
   "file_extension": ".py",
   "mimetype": "text/x-python",
   "name": "python",
   "nbconvert_exporter": "python",
   "pygments_lexer": "ipython3",
   "version": "3.8.3"
  }
 },
 "nbformat": 4,
 "nbformat_minor": 4
}
