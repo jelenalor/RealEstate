{
 "cells": [
  {
   "cell_type": "code",
   "execution_count": 1,
   "metadata": {},
   "outputs": [],
   "source": [
    "import numpy as np \n",
    "import pandas as pd\n",
    "import os\n",
    "import psycopg2\n",
    "import geopandas as gpd\n",
    "\n",
    "import importlib\n",
    "from Secrets import secrets\n",
    "# importlib.reload(secrets)\n",
    "\n",
    "import matplotlib.pyplot as plt\n",
    "import seaborn as sns"
   ]
  },
  {
   "cell_type": "code",
   "execution_count": null,
   "metadata": {},
   "outputs": [],
   "source": [
    "# Choose comparable properties"
   ]
  },
  {
   "cell_type": "code",
   "execution_count": 23,
   "metadata": {},
   "outputs": [
    {
     "data": {
      "text/plain": [
       "(240, 4)"
      ]
     },
     "execution_count": 23,
     "metadata": {},
     "output_type": "execute_result"
    }
   ],
   "source": [
    "engine = psycopg2.connect(database=\"postgres\", user=secrets.user(), password=secrets.password(), host=secrets.host(), port='5432')\n",
    "cur = engine.cursor()\n",
    "cur.execute(\"\"\"\n",
    "SELECT \n",
    "    p.brn, p.lsoa, p.new, p.duration, p.type, e.total_floor_area, e.number_habitable_rooms,\n",
    "    CAST(ROUND((p.price)::numeric,0 ) as integer) as avg_price,\n",
    "    CAST(ROUND((p.price/e.total_floor_area)::numeric, 3 ) as integer) as sqm_price\n",
    "\n",
    "from prices as p\n",
    "join epc as e\n",
    "on e.brn = p.brn\n",
    "join geo as g\n",
    "on p.lsoa = g.lsoa\n",
    "where e.total_floor_area <> 0 and e.number_habitable_rooms <> 0 and e.number_habitable_rooms is not null and e.total_floor_area is not null\n",
    "\n",
    "and e.number_habitable_rooms = 3\n",
    "and (e.total_floor_area > 60 and e.total_floor_area < 75)\n",
    "and p.type = 'D'\n",
    "and p.duration = 'F'\n",
    "and p.new = 'N'\n",
    ";\n",
    "\n",
    "\"\"\")\n",
    "rows = cur.fetchall()\n",
    "result = pd.DataFrame(rows, columns = [desc[0] for desc in cur.description])\n",
    "result = result.groupby(\"lsoa\", as_index=False).agg({'sqm_price': 'mean', 'avg_price': 'mean', \"type\": \"count\"})\n",
    "result = result[result.type > 2]\n",
    "result.shape"
   ]
  },
  {
   "cell_type": "code",
   "execution_count": 25,
   "metadata": {},
   "outputs": [
    {
     "data": {
      "text/html": [
       "<div>\n",
       "<style scoped>\n",
       "    .dataframe tbody tr th:only-of-type {\n",
       "        vertical-align: middle;\n",
       "    }\n",
       "\n",
       "    .dataframe tbody tr th {\n",
       "        vertical-align: top;\n",
       "    }\n",
       "\n",
       "    .dataframe thead th {\n",
       "        text-align: right;\n",
       "    }\n",
       "</style>\n",
       "<table border=\"1\" class=\"dataframe\">\n",
       "  <thead>\n",
       "    <tr style=\"text-align: right;\">\n",
       "      <th></th>\n",
       "      <th>lsoa</th>\n",
       "      <th>sqm_price</th>\n",
       "      <th>avg_price</th>\n",
       "      <th>type</th>\n",
       "    </tr>\n",
       "  </thead>\n",
       "  <tbody>\n",
       "    <tr>\n",
       "      <th>0</th>\n",
       "      <td>E01000029</td>\n",
       "      <td>4440.0</td>\n",
       "      <td>293330.0</td>\n",
       "      <td>3</td>\n",
       "    </tr>\n",
       "    <tr>\n",
       "      <th>4</th>\n",
       "      <td>E01000104</td>\n",
       "      <td>3940.0</td>\n",
       "      <td>281332.0</td>\n",
       "      <td>3</td>\n",
       "    </tr>\n",
       "    <tr>\n",
       "      <th>8</th>\n",
       "      <td>E01000141</td>\n",
       "      <td>4096.0</td>\n",
       "      <td>286087.0</td>\n",
       "      <td>10</td>\n",
       "    </tr>\n",
       "    <tr>\n",
       "      <th>9</th>\n",
       "      <td>E01000144</td>\n",
       "      <td>3852.0</td>\n",
       "      <td>241667.0</td>\n",
       "      <td>3</td>\n",
       "    </tr>\n",
       "    <tr>\n",
       "      <th>20</th>\n",
       "      <td>E01000220</td>\n",
       "      <td>23256.0</td>\n",
       "      <td>1616875.0</td>\n",
       "      <td>8</td>\n",
       "    </tr>\n",
       "    <tr>\n",
       "      <th>...</th>\n",
       "      <td>...</td>\n",
       "      <td>...</td>\n",
       "      <td>...</td>\n",
       "      <td>...</td>\n",
       "    </tr>\n",
       "    <tr>\n",
       "      <th>727</th>\n",
       "      <td>E01004384</td>\n",
       "      <td>1118.0</td>\n",
       "      <td>76000.0</td>\n",
       "      <td>3</td>\n",
       "    </tr>\n",
       "    <tr>\n",
       "      <th>733</th>\n",
       "      <td>E01004454</td>\n",
       "      <td>4841.0</td>\n",
       "      <td>316899.0</td>\n",
       "      <td>5</td>\n",
       "    </tr>\n",
       "    <tr>\n",
       "      <th>735</th>\n",
       "      <td>E01004472</td>\n",
       "      <td>5568.0</td>\n",
       "      <td>416000.0</td>\n",
       "      <td>3</td>\n",
       "    </tr>\n",
       "    <tr>\n",
       "      <th>743</th>\n",
       "      <td>E01004569</td>\n",
       "      <td>1803.0</td>\n",
       "      <td>129667.0</td>\n",
       "      <td>3</td>\n",
       "    </tr>\n",
       "    <tr>\n",
       "      <th>764</th>\n",
       "      <td>E01033741</td>\n",
       "      <td>2905.0</td>\n",
       "      <td>195999.0</td>\n",
       "      <td>5</td>\n",
       "    </tr>\n",
       "  </tbody>\n",
       "</table>\n",
       "<p>240 rows × 4 columns</p>\n",
       "</div>"
      ],
      "text/plain": [
       "          lsoa  sqm_price  avg_price  type\n",
       "0    E01000029     4440.0   293330.0     3\n",
       "4    E01000104     3940.0   281332.0     3\n",
       "8    E01000141     4096.0   286087.0    10\n",
       "9    E01000144     3852.0   241667.0     3\n",
       "20   E01000220    23256.0  1616875.0     8\n",
       "..         ...        ...        ...   ...\n",
       "727  E01004384     1118.0    76000.0     3\n",
       "733  E01004454     4841.0   316899.0     5\n",
       "735  E01004472     5568.0   416000.0     3\n",
       "743  E01004569     1803.0   129667.0     3\n",
       "764  E01033741     2905.0   195999.0     5\n",
       "\n",
       "[240 rows x 4 columns]"
      ]
     },
     "execution_count": 25,
     "metadata": {},
     "output_type": "execute_result"
    }
   ],
   "source": [
    "result.round()"
   ]
  },
  {
   "cell_type": "code",
   "execution_count": null,
   "metadata": {},
   "outputs": [],
   "source": []
  },
  {
   "cell_type": "code",
   "execution_count": null,
   "metadata": {},
   "outputs": [],
   "source": []
  },
  {
   "cell_type": "code",
   "execution_count": null,
   "metadata": {},
   "outputs": [],
   "source": []
  },
  {
   "cell_type": "code",
   "execution_count": null,
   "metadata": {},
   "outputs": [],
   "source": []
  },
  {
   "cell_type": "code",
   "execution_count": null,
   "metadata": {},
   "outputs": [],
   "source": []
  }
 ],
 "metadata": {
  "kernelspec": {
   "display_name": "Python 3",
   "language": "python",
   "name": "python3"
  },
  "language_info": {
   "codemirror_mode": {
    "name": "ipython",
    "version": 3
   },
   "file_extension": ".py",
   "mimetype": "text/x-python",
   "name": "python",
   "nbconvert_exporter": "python",
   "pygments_lexer": "ipython3",
   "version": "3.8.3"
  }
 },
 "nbformat": 4,
 "nbformat_minor": 4
}
