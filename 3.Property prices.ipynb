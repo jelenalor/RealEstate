{
 "cells": [
  {
   "cell_type": "code",
   "execution_count": 1,
   "metadata": {},
   "outputs": [],
   "source": [
    "import numpy as np \n",
    "import pandas as pd\n",
    "import os\n",
    "import psycopg2\n",
    "import geopandas as gpd\n",
    "\n",
    "import importlib\n",
    "from Secrets import secrets\n",
    "# importlib.reload(secrets)\n",
    "\n",
    "import matplotlib.pyplot as plt\n",
    "import seaborn as sns"
   ]
  },
  {
   "cell_type": "code",
   "execution_count": null,
   "metadata": {},
   "outputs": [],
   "source": [
    "# Choose comparable properties"
   ]
  },
  {
   "cell_type": "code",
   "execution_count": 14,
   "metadata": {},
   "outputs": [],
   "source": [
    "engine = psycopg2.connect(database=\"postgres\", user=secrets.user(), password=secrets.password(), host=secrets.host(), port='5432')\n",
    "cur = engine.cursor()\n",
    "cur.execute(\"\"\"\n",
    "SELECT \n",
    "    p.brn, p.lsoa, p.new, p.duration, p.type, e.total_floor_area, e.number_habitable_rooms,\n",
    "    CAST(ROUND((p.price)::numeric,0 ) as integer) as avg_price,\n",
    "    CAST(ROUND((p.price/e.total_floor_area)::numeric, 3 ) as integer) as sqm_price\n",
    "\n",
    "from prices as p\n",
    "join epc as e\n",
    "on e.brn = p.brn\n",
    "join geo as g\n",
    "on p.lsoa = g.lsoa\n",
    "where e.total_floor_area <> 0 and e.number_habitable_rooms <> 0 and e.number_habitable_rooms is not null and e.total_floor_area is not null\n",
    "and p.year in (2017, 2018, 2019)\n",
    "and e.number_habitable_rooms = 3\n",
    "and (e.total_floor_area > 60 and e.total_floor_area < 69)\n",
    "and p.type = 'D'\n",
    "and p.duration = 'F'\n",
    "and p.new = 'N'\n",
    ";\n",
    "\n",
    "\"\"\")\n",
    "rows = cur.fetchall()\n",
    "result = pd.DataFrame(rows, columns = [desc[0] for desc in cur.description])\n"
   ]
  },
  {
   "cell_type": "code",
   "execution_count": 15,
   "metadata": {},
   "outputs": [
    {
     "data": {
      "text/plain": [
       "(137, 9)"
      ]
     },
     "execution_count": 15,
     "metadata": {},
     "output_type": "execute_result"
    }
   ],
   "source": [
    "result.shape"
   ]
  },
  {
   "cell_type": "code",
   "execution_count": null,
   "metadata": {},
   "outputs": [],
   "source": []
  },
  {
   "cell_type": "code",
   "execution_count": null,
   "metadata": {},
   "outputs": [],
   "source": []
  },
  {
   "cell_type": "code",
   "execution_count": null,
   "metadata": {},
   "outputs": [],
   "source": []
  },
  {
   "cell_type": "code",
   "execution_count": null,
   "metadata": {},
   "outputs": [],
   "source": []
  },
  {
   "cell_type": "code",
   "execution_count": null,
   "metadata": {},
   "outputs": [],
   "source": []
  }
 ],
 "metadata": {
  "kernelspec": {
   "display_name": "Python 3",
   "language": "python",
   "name": "python3"
  },
  "language_info": {
   "codemirror_mode": {
    "name": "ipython",
    "version": 3
   },
   "file_extension": ".py",
   "mimetype": "text/x-python",
   "name": "python",
   "nbconvert_exporter": "python",
   "pygments_lexer": "ipython3",
   "version": "3.8.3"
  }
 },
 "nbformat": 4,
 "nbformat_minor": 4
}
